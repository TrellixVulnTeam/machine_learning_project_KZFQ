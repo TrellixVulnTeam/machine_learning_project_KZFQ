{
 "cells": [
  {
   "cell_type": "code",
   "execution_count": 1,
   "metadata": {},
   "outputs": [],
   "source": [
    "from collections import namedtuple\n"
   ]
  },
  {
   "cell_type": "code",
   "execution_count": null,
   "metadata": {},
   "outputs": [],
   "source": [
    "DataIngestionConfig=namedtuple(\"DataIngestionConfig\",[\"dataset_download_url\",\"tgz_download_dir\",\n",
    "\"raw_data_dir\",\"ingested_train_dir\",1\"ingested_test_dir\"])\n",
    "\n",
    "#download_url, download_folder (compressed), extract_folder(raw), train dataset folder, test data folder"
   ]
  }
 ],
 "metadata": {
  "kernelspec": {
   "display_name": "Python 3.7.0 (conda)",
   "language": "python",
   "name": "python3"
  },
  "language_info": {
   "codemirror_mode": {
    "name": "ipython",
    "version": 3
   },
   "file_extension": ".py",
   "mimetype": "text/x-python",
   "name": "python",
   "nbconvert_exporter": "python",
   "pygments_lexer": "ipython3",
   "version": "3.7.0"
  },
  "orig_nbformat": 4,
  "vscode": {
   "interpreter": {
    "hash": "bcd263c98097b774ba8b316cd83b98eed083848dcf9752689ba6015ce2d9df9a"
   }
  }
 },
 "nbformat": 4,
 "nbformat_minor": 2
}
